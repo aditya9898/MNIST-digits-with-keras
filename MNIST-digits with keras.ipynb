{
 "cells": [
  {
   "cell_type": "code",
   "execution_count": 1,
   "metadata": {},
   "outputs": [
    {
     "name": "stderr",
     "output_type": "stream",
     "text": [
      "C:\\Users\\aditya\\AppData\\Local\\Continuum\\anaconda3\\envs\\tensorflow\\lib\\site-packages\\h5py\\__init__.py:36: FutureWarning: Conversion of the second argument of issubdtype from `float` to `np.floating` is deprecated. In future, it will be treated as `np.float64 == np.dtype(float).type`.\n",
      "  from ._conv import register_converters as _register_converters\n",
      "Using TensorFlow backend.\n"
     ]
    }
   ],
   "source": [
    "import pandas as pd\n",
    "import tensorflow as tf\n",
    "import numpy as np\n",
    "import matplotlib.pyplot as plt\n",
    "from keras.layers import Input,Dense,Conv2D,Activation,ZeroPadding2D,BatchNormalization,Flatten\n",
    "from keras.layers import MaxPooling2D\n",
    "from keras.models import Model\n",
    "from keras.initializers import glorot_uniform"
   ]
  },
  {
   "cell_type": "code",
   "execution_count": 3,
   "metadata": {},
   "outputs": [
    {
     "name": "stdout",
     "output_type": "stream",
     "text": [
      "Successfully downloaded train-images-idx3-ubyte.gz 9912422 bytes.\n",
      "Extracting MNIST_data/train-images-idx3-ubyte.gz\n",
      "Successfully downloaded train-labels-idx1-ubyte.gz 28881 bytes.\n",
      "Extracting MNIST_data/train-labels-idx1-ubyte.gz\n",
      "Successfully downloaded t10k-images-idx3-ubyte.gz 1648877 bytes.\n",
      "Extracting MNIST_data/t10k-images-idx3-ubyte.gz\n",
      "Successfully downloaded t10k-labels-idx1-ubyte.gz 4542 bytes.\n",
      "Extracting MNIST_data/t10k-labels-idx1-ubyte.gz\n"
     ]
    }
   ],
   "source": [
    "from tensorflow.examples.tutorials.mnist import input_data\n",
    "mnist=input_data.read_data_sets(\"MNIST_data/\",one_hot=True)"
   ]
  },
  {
   "cell_type": "code",
   "execution_count": 18,
   "metadata": {},
   "outputs": [
    {
     "name": "stdout",
     "output_type": "stream",
     "text": [
      "xtr=(55000, 28, 28, 1)\n",
      "ytr=(55000, 10)\n",
      "xts=(10000, 28, 28, 1)\n",
      "yts=(10000, 10)\n"
     ]
    }
   ],
   "source": [
    "xtr=mnist.train.images.reshape(55000,28,28,1)\n",
    "ytr=mnist.train.labels\n",
    "xts=mnist.test.images.reshape(10000,28,28,1)\n",
    "yts=mnist.test.labels\n",
    "print('xtr='+str(xtr.shape))\n",
    "print('ytr='+str(ytr.shape))\n",
    "print('xts='+str(xts.shape))\n",
    "print('yts='+str(yts.shape))"
   ]
  },
  {
   "cell_type": "code",
   "execution_count": 30,
   "metadata": {},
   "outputs": [],
   "source": [
    "def model(input_shape):\n",
    "    x_input=Input(input_shape)\n",
    "    \n",
    "    x=Conv2D(10,(5,5),strides=(1,1),padding='same',kernel_initializer=glorot_uniform(seed=0))(x_input)\n",
    "    x=BatchNormalization(axis=3)(x)\n",
    "    x=Activation('relu')(x)\n",
    "    x=MaxPooling2D((3,3))(x)\n",
    "    \n",
    "    x=Conv2D(32,(3,3),strides=(1,1),padding='valid',kernel_initializer=glorot_uniform(seed=1))(x)\n",
    "    x=BatchNormalization(axis=3)(x)\n",
    "    x=Activation('relu')(x)\n",
    "    x=MaxPooling2D((3,3))(x)\n",
    "    \n",
    "\n",
    "    x=Flatten()(x)\n",
    "    x=Dense(10,activation='softmax')(x)\n",
    "    model=Model(inputs=x_input,outputs=x)\n",
    "    return model\n",
    "    "
   ]
  },
  {
   "cell_type": "code",
   "execution_count": 31,
   "metadata": {},
   "outputs": [],
   "source": [
    "mod=model((28,28,1))"
   ]
  },
  {
   "cell_type": "code",
   "execution_count": 32,
   "metadata": {},
   "outputs": [],
   "source": [
    "mod.compile(optimizer='adam',loss='categorical_crossentropy',metrics=['accuracy'])"
   ]
  },
  {
   "cell_type": "code",
   "execution_count": 33,
   "metadata": {},
   "outputs": [
    {
     "name": "stdout",
     "output_type": "stream",
     "text": [
      "Epoch 1/5\n",
      "55000/55000 [==============================] - 44s 799us/step - loss: 0.1960 - acc: 0.9453\n",
      "Epoch 2/5\n",
      "55000/55000 [==============================] - 41s 738us/step - loss: 0.0652 - acc: 0.9801\n",
      "Epoch 3/5\n",
      "55000/55000 [==============================] - 40s 720us/step - loss: 0.0510 - acc: 0.9837\n",
      "Epoch 4/5\n",
      "55000/55000 [==============================] - 40s 724us/step - loss: 0.0429 - acc: 0.9867\n",
      "Epoch 5/5\n",
      "55000/55000 [==============================] - 45s 814us/step - loss: 0.0369 - acc: 0.9882\n"
     ]
    },
    {
     "data": {
      "text/plain": [
       "<keras.callbacks.History at 0x21a3a337d68>"
      ]
     },
     "execution_count": 33,
     "metadata": {},
     "output_type": "execute_result"
    }
   ],
   "source": [
    "mod.fit(x=xtr,y=ytr,epochs=5,batch_size=16)"
   ]
  },
  {
   "cell_type": "code",
   "execution_count": 34,
   "metadata": {},
   "outputs": [
    {
     "name": "stdout",
     "output_type": "stream",
     "text": [
      "10000/10000 [==============================] - 2s 231us/step\n"
     ]
    },
    {
     "data": {
      "text/plain": [
       "[0.041903258751379326, 0.9865]"
      ]
     },
     "execution_count": 34,
     "metadata": {},
     "output_type": "execute_result"
    }
   ],
   "source": [
    "mod.evaluate(x=xts,y=yts)"
   ]
  },
  {
   "cell_type": "code",
   "execution_count": 108,
   "metadata": {},
   "outputs": [
    {
     "name": "stdout",
     "output_type": "stream",
     "text": [
      "predicted value = 8\n"
     ]
    },
    {
     "data": {
      "image/png": "[encoded data removed]",
      "text/plain": [
       "<Figure size 432x288 with 1 Axes>"
      ]
     },
     "metadata": {},
     "output_type": "display_data"
    }
   ],
   "source": [
    "n=np.random.randint(1,10000)\n",
    "im=xts[n,:,:,:].reshape(28,28)\n",
    "plt.imshow(im,cmap='gray')\n",
    "\n",
    "prediction=np.argmax(mod.predict(im.reshape(1,28,28,1)))\n",
    "print(\"predicted value = \"+str(prediction))"
   ]
  },
  {
   "cell_type": "code",
   "execution_count": null,
   "metadata": {},
   "outputs": [],
   "source": []
  },
  {
   "cell_type": "code",
   "execution_count": null,
   "metadata": {},
   "outputs": [],
   "source": []
  },
  {
   "cell_type": "code",
   "execution_count": null,
   "metadata": {},
   "outputs": [],
   "source": []
  }
 ],
 "metadata": {
  "kernelspec": {
   "display_name": "Python 3",
   "language": "python",
   "name": "python3"
  },
  "language_info": {
   "codemirror_mode": {
    "name": "ipython",
    "version": 3
   },
   "file_extension": ".py",
   "mimetype": "text/x-python",
   "name": "python",
   "nbconvert_exporter": "python",
   "pygments_lexer": "ipython3",
   "version": "3.5.4"
  }
 },
 "nbformat": 4,
 "nbformat_minor": 2
}
